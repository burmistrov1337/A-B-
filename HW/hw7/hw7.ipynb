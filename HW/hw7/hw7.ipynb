{
 "cells": [
  {
   "cell_type": "code",
   "execution_count": 73,
   "metadata": {},
   "outputs": [],
   "source": [
    "# импорт необходимых библиотек\n",
    "import numpy as np\n",
    "import plotly.graph_objects as go\n",
    "from plotly.subplots import make_subplots\n",
    "from tqdm import tqdm\n",
    "\n",
    "import scipy.stats as st\n",
    "from statsmodels.stats.power import tt_ind_solve_power\n",
    "from statsmodels.stats.power import zt_ind_solve_power\n",
    "from statsmodels.stats.proportion import proportion_effectsize\n",
    "from statsmodels.stats import proportion\n",
    "from statsmodels.stats.meta_analysis import effectsize_smd\n",
    "\n",
    "# импорт необходимых библиотек\n",
    "from statsmodels.stats.power import tt_ind_solve_power, zt_ind_solve_power\n",
    "from statsmodels.stats.proportion import proportion_effectsize\n",
    "from statsmodels.stats.meta_analysis import effectsize_smd\n",
    "from typing import Union\n",
    "import plotly.graph_objects as go\n",
    "from scipy import stats\n",
    "from math import asin\n",
    "import numpy as np"
   ]
  },
  {
   "attachments": {},
   "cell_type": "markdown",
   "metadata": {},
   "source": [
    "#### На основе выбранных продуктов из первого вебинара, выберите 2 A/B-теста и составьте план эксперимента, чтобы избежать Peeking Problem\n",
    "\n",
    "_Распишите, какие метрики и как вы будете анализировать_"
   ]
  },
  {
   "attachments": {},
   "cell_type": "markdown",
   "metadata": {},
   "source": [
    "<image src=\"2023-04-17_14-30-32.png\" alt=\"Шаблон\">"
   ]
  },
  {
   "cell_type": "code",
   "execution_count": 74,
   "metadata": {},
   "outputs": [],
   "source": [
    "def calc_proportion_es(prob1: float, prob2: float):\n",
    "    \n",
    "    return abs(proportion_effectsize(prob1, prob2))\n",
    "\n",
    "def calc_proportion_es_alt(conv1: float, conv2:float, prob1:float, prob2: float):\n",
    "    \n",
    "    return 2  * asin(np.sqrt(conv1/nobs1)) - 2 * asin(np.sqrt(conv2/nobs2))\n",
    "\n",
    "def calc_continuous_es(mean_control: Union[float, int],\n",
    "                       std_control: Union[float, int],\n",
    "                       mean_test: Union[float, int],\n",
    "                       std_test: Union[float, int]):\n",
    "    \n",
    "    return abs(effectsize_smd(mean_control,\n",
    "                              std_control,\n",
    "                              1e4,\n",
    "                              mean_test,\n",
    "                              std_test,\n",
    "                              1e4)[0])\n",
    "\n",
    "def calc_continuous_es_alt(mean_control: Union[float, int],\n",
    "                           std_control: Union[float, int],\n",
    "                           mean_test: Union[float, int],\n",
    "                           std_test: Union[float, int]):\n",
    "    \n",
    "    effect_size = (mean_test - mean_control) / ((std_control**2 + std_test**2) / 2) ** 0.5\n",
    "    return effect_size\n",
    "    \n",
    "def calc_sample_size_continuous(effect_size: float,\n",
    "                     alpha: float = .05,\n",
    "                     beta: float = .2,\n",
    "                     ratio: Union[float, int] = 1):\n",
    "    \n",
    "    n = tt_ind_solve_power(effect_size=effect_size,\n",
    "                           alpha=alpha,\n",
    "                           power=(1 - beta),\n",
    "                           ratio=ratio,\n",
    "                  )\n",
    "    return int(n * 2)\n",
    "\n",
    "def calc_sample_size_proportion(effect_size: float,\n",
    "                     alpha: float = .05,\n",
    "                     beta: float = .2,\n",
    "                     ratio: Union[float, int] = 1):\n",
    "    \n",
    "    n = zt_ind_solve_power(effect_size=effect_size,\n",
    "                           alpha=alpha,\n",
    "                           power=(1 - beta),\n",
    "                           ratio=ratio,\n",
    "                  )\n",
    "    return int(n * 2)"
   ]
  },
  {
   "attachments": {},
   "cell_type": "markdown",
   "metadata": {},
   "source": [
    "#### Выбираем гипотезу: 3. Введение бонусной программы для постоянных покупателей может помочь компании достичь увеличение среднего чека на величину 10%, что позволит увеличить метрику на 20 % Retention n- го дня – показывает сколько пользователей, пришедших в определенный день вернулось в продукт. Средний трафик человек в день 5000.Посчитайте сколько нам нужно дней держать эксперимент при alpha = 5% и beta = 20%"
   ]
  },
  {
   "cell_type": "code",
   "execution_count": 75,
   "metadata": {},
   "outputs": [
    {
     "data": {
      "text/plain": [
       "0.06398210298605855"
      ]
     },
     "execution_count": 75,
     "metadata": {},
     "output_type": "execute_result"
    }
   ],
   "source": [
    "CR_1, CR_2 = 0.10, 0.12\n",
    "\n",
    "es_prop = calc_proportion_es(CR_1, CR_2)\n",
    "es_prop"
   ]
  },
  {
   "cell_type": "code",
   "execution_count": 76,
   "metadata": {},
   "outputs": [
    {
     "data": {
      "text/plain": [
       "7669"
      ]
     },
     "execution_count": 76,
     "metadata": {},
     "output_type": "execute_result"
    }
   ],
   "source": [
    "calc_sample_size_proportion(es_prop)"
   ]
  },
  {
   "cell_type": "code",
   "execution_count": 77,
   "metadata": {},
   "outputs": [],
   "source": [
    "DAU = 5000"
   ]
  },
  {
   "cell_type": "code",
   "execution_count": 78,
   "metadata": {},
   "outputs": [
    {
     "data": {
      "text/plain": [
       "1.5338"
      ]
     },
     "execution_count": 78,
     "metadata": {},
     "output_type": "execute_result"
    }
   ],
   "source": [
    "res = 7669 / DAU\n",
    "res"
   ]
  },
  {
   "attachments": {},
   "cell_type": "markdown",
   "metadata": {},
   "source": [
    "_Длительность эксперитмента 2 дня_"
   ]
  }
 ],
 "metadata": {
  "kernelspec": {
   "display_name": "Python 3",
   "language": "python",
   "name": "python3"
  },
  "language_info": {
   "codemirror_mode": {
    "name": "ipython",
    "version": 3
   },
   "file_extension": ".py",
   "mimetype": "text/x-python",
   "name": "python",
   "nbconvert_exporter": "python",
   "pygments_lexer": "ipython3",
   "version": "3.10.11"
  },
  "orig_nbformat": 4
 },
 "nbformat": 4,
 "nbformat_minor": 2
}
